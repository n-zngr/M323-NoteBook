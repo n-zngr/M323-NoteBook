{
 "cells": [
  {
   "cell_type": "markdown",
   "metadata": {},
   "source": [
    "# MB06\n",
    "\n",
    "## Currying\n",
    "Currying ist ein funktionales Design-Pattern. Bennant nach dem Mathematiker Haskell Curry. Zur Erinnerung: Ein Design Pattern ist ein allgemein bekanntes wiederverwendbares Programmierkonzept zur Lösung spezifischer Problene. Currying vereinfacht eine Funktion mit mehreren Argumenten (parametern) in mehrere verschachtelte Funktionen mit je nur einem Argument - Beispiel: "
   ]
  },
  {
   "cell_type": "code",
   "execution_count": 11,
   "metadata": {},
   "outputs": [
    {
     "name": "stdout",
     "output_type": "stream",
     "text": [
      "Ergebnis: 6000\n"
     ]
    }
   ],
   "source": [
    "# klassische Funtion mit 3 argumenten: \n",
    "def mult(x, y, z): \n",
    "    return x*y*z\n",
    "\n",
    "# mit partial wird ein Argument an eine übergeordnete Teilfunktion gebunden. \n",
    "\n",
    "from functools import partial\n",
    "\n",
    "mult_10 = partial(mult, 10)\n",
    "mult_10_20 = partial(mult_10, 20)\n",
    "print(\"Ergebnis:\", mult_10_20(30))"
   ]
  },
  {
   "attachments": {
    "image.png": {
     "image/png": "[encoded data removed]"
    }
   },
   "cell_type": "markdown",
   "metadata": {},
   "source": [
    "\n",
    "## Monaden\n",
    "Mit dem Monade-Konzept können wir meherere Funktionen on the fly verschachtelt werden. \n",
    "\n",
    "Dabei verwendet die Nachfolgenefunktion das Ergebnis der Vorgängerfunktion nach dem Prinzip: \n",
    "\n",
    "![image.png](attachment:image.png)\n",
    " \n",
    "erstens: \tA​\n",
    "zweitens:\terstens, dann B​\n",
    "drittens: \tzweitens, dann C\n",
    "\n",
    "Da zweitens auch bereits erstens enthält, werden bei drittens alle drei Funktionen verschachtelt ausgeführt, wobei das Ergebnis der Vorhergehenden als Parameter an die Nächste übergeht. \n",
    "\n",
    "Im Hauptprogramm werden dann die Funktionen mit Hilfe der Monaden-klasse zu Units zusammengefügt und ausgeführt\n"
   ]
  },
  {
   "cell_type": "code",
   "execution_count": null,
   "metadata": {},
   "outputs": [],
   "source": [
    "# Im Hauptprogramm werden dann die Funktionen mit Hilfe der Monaden-Klasse zu Units zusammengefügt und ausgeführt:​\n",
    "\n",
    "# Aufbau einer Monade​\n",
    "\n",
    "first = Monad(add(5))\n",
    "\n",
    "second = first.then(double)\n",
    "\n",
    "third = second.then(inc)\n",
    "\n",
    "fourth = third.then(double)\n",
    "\n",
    "\n",
    "# Bildung der Monade und Zuweisung an eine ausführbare Variable​\n",
    "\n",
    "# 5 ist der Startparameter für die ganze Monade​\n",
    "\n",
    "# fourth bezeichnet den Einstiegspunkt der Funktionssequenz​\n",
    "\n",
    "compute = Monad.unit(5).bind(fourth)\n",
    "print(compute())"
   ]
  }
 ],
 "metadata": {
  "kernelspec": {
   "display_name": "Python 3",
   "language": "python",
   "name": "python3"
  },
  "language_info": {
   "codemirror_mode": {
    "name": "ipython",
    "version": 3
   },
   "file_extension": ".py",
   "mimetype": "text/x-python",
   "name": "python",
   "nbconvert_exporter": "python",
   "pygments_lexer": "ipython3",
   "version": "3.13.0"
  }
 },
 "nbformat": 4,
 "nbformat_minor": 2
}
