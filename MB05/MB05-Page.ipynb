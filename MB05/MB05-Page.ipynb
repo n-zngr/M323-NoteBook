{
 "cells": [
  {
   "cell_type": "markdown",
   "metadata": {},
   "source": [
    "# MB05\n",
    "\n",
    "## List Comprehensions\n",
    "Mit List Comprehensions können Funktionskombinationen aus lambda(), map(), filter() etc. elegant ersetzt werden. List Comprehensions behandeln Listen wie Mengen. Comprehension steht hier für Verarbeitung.​\n",
    "\n",
    "Die Definition für eine List Comprehension sieht vorerst so aus wie für jede andere Liste:​\n",
    "\n",
    "Celsius = [19.2, 26.5, 17.3, 27.8]​\n",
    "​\n",
    "\n",
    "Statt den konstanten Werten wird dann aber eine Anweisung formuliert:​\n",
    "\n",
    "Absolut = [(Anweisung) for x in Celsius]​\n",
    "\n",
    "### Übungsaufgabe\n",
    "Versuche eine eigene List Comprehension zu formulieren, welche alle Würfelkombinationen für zwei, dann für drei Würfel in eine Liste schreibt.​\n",
    "\n",
    "Wofür könntest Du List Comprehensions noch verwenden?​\n",
    "Formuliere eine Aufgabe und Programmiere sie dann aus.\n",
    "\n",
    "### 5.1-Aufgabe"
   ]
  },
  {
   "cell_type": "code",
   "execution_count": 4,
   "metadata": {},
   "outputs": [
    {
     "name": "stdout",
     "output_type": "stream",
     "text": [
      "Kombinationen für zwei Würfel (6^2): [(1, 1), (1, 2), (1, 3), (1, 4), (1, 5), (1, 6), (2, 1), (2, 2), (2, 3), (2, 4), (2, 5), (2, 6), (3, 1), (3, 2), (3, 3), (3, 4), (3, 5), (3, 6), (4, 1), (4, 2), (4, 3), (4, 4), (4, 5), (4, 6), (5, 1), (5, 2), (5, 3), (5, 4), (5, 5), (5, 6), (6, 1), (6, 2), (6, 3), (6, 4), (6, 5), (6, 6)]\n",
      "Length 36\n",
      "Kombinationen für drei Würfel (6^3): [(1, 1, 1), (1, 1, 2), (1, 1, 3), (1, 1, 4), (1, 1, 5), (1, 1, 6), (1, 2, 1), (1, 2, 2), (1, 2, 3), (1, 2, 4), (1, 2, 5), (1, 2, 6), (1, 3, 1), (1, 3, 2), (1, 3, 3), (1, 3, 4), (1, 3, 5), (1, 3, 6), (1, 4, 1), (1, 4, 2), (1, 4, 3), (1, 4, 4), (1, 4, 5), (1, 4, 6), (1, 5, 1), (1, 5, 2), (1, 5, 3), (1, 5, 4), (1, 5, 5), (1, 5, 6), (1, 6, 1), (1, 6, 2), (1, 6, 3), (1, 6, 4), (1, 6, 5), (1, 6, 6), (2, 1, 1), (2, 1, 2), (2, 1, 3), (2, 1, 4), (2, 1, 5), (2, 1, 6), (2, 2, 1), (2, 2, 2), (2, 2, 3), (2, 2, 4), (2, 2, 5), (2, 2, 6), (2, 3, 1), (2, 3, 2), (2, 3, 3), (2, 3, 4), (2, 3, 5), (2, 3, 6), (2, 4, 1), (2, 4, 2), (2, 4, 3), (2, 4, 4), (2, 4, 5), (2, 4, 6), (2, 5, 1), (2, 5, 2), (2, 5, 3), (2, 5, 4), (2, 5, 5), (2, 5, 6), (2, 6, 1), (2, 6, 2), (2, 6, 3), (2, 6, 4), (2, 6, 5), (2, 6, 6), (3, 1, 1), (3, 1, 2), (3, 1, 3), (3, 1, 4), (3, 1, 5), (3, 1, 6), (3, 2, 1), (3, 2, 2), (3, 2, 3), (3, 2, 4), (3, 2, 5), (3, 2, 6), (3, 3, 1), (3, 3, 2), (3, 3, 3), (3, 3, 4), (3, 3, 5), (3, 3, 6), (3, 4, 1), (3, 4, 2), (3, 4, 3), (3, 4, 4), (3, 4, 5), (3, 4, 6), (3, 5, 1), (3, 5, 2), (3, 5, 3), (3, 5, 4), (3, 5, 5), (3, 5, 6), (3, 6, 1), (3, 6, 2), (3, 6, 3), (3, 6, 4), (3, 6, 5), (3, 6, 6), (4, 1, 1), (4, 1, 2), (4, 1, 3), (4, 1, 4), (4, 1, 5), (4, 1, 6), (4, 2, 1), (4, 2, 2), (4, 2, 3), (4, 2, 4), (4, 2, 5), (4, 2, 6), (4, 3, 1), (4, 3, 2), (4, 3, 3), (4, 3, 4), (4, 3, 5), (4, 3, 6), (4, 4, 1), (4, 4, 2), (4, 4, 3), (4, 4, 4), (4, 4, 5), (4, 4, 6), (4, 5, 1), (4, 5, 2), (4, 5, 3), (4, 5, 4), (4, 5, 5), (4, 5, 6), (4, 6, 1), (4, 6, 2), (4, 6, 3), (4, 6, 4), (4, 6, 5), (4, 6, 6), (5, 1, 1), (5, 1, 2), (5, 1, 3), (5, 1, 4), (5, 1, 5), (5, 1, 6), (5, 2, 1), (5, 2, 2), (5, 2, 3), (5, 2, 4), (5, 2, 5), (5, 2, 6), (5, 3, 1), (5, 3, 2), (5, 3, 3), (5, 3, 4), (5, 3, 5), (5, 3, 6), (5, 4, 1), (5, 4, 2), (5, 4, 3), (5, 4, 4), (5, 4, 5), (5, 4, 6), (5, 5, 1), (5, 5, 2), (5, 5, 3), (5, 5, 4), (5, 5, 5), (5, 5, 6), (5, 6, 1), (5, 6, 2), (5, 6, 3), (5, 6, 4), (5, 6, 5), (5, 6, 6), (6, 1, 1), (6, 1, 2), (6, 1, 3), (6, 1, 4), (6, 1, 5), (6, 1, 6), (6, 2, 1), (6, 2, 2), (6, 2, 3), (6, 2, 4), (6, 2, 5), (6, 2, 6), (6, 3, 1), (6, 3, 2), (6, 3, 3), (6, 3, 4), (6, 3, 5), (6, 3, 6), (6, 4, 1), (6, 4, 2), (6, 4, 3), (6, 4, 4), (6, 4, 5), (6, 4, 6), (6, 5, 1), (6, 5, 2), (6, 5, 3), (6, 5, 4), (6, 5, 5), (6, 5, 6), (6, 6, 1), (6, 6, 2), (6, 6, 3), (6, 6, 4), (6, 6, 5), (6, 6, 6)]\n",
      "Length 216\n"
     ]
    }
   ],
   "source": [
    "zwei_wuerfel_kombinationen = [(a, b) for a in range(1, 7) for b in range(1, 7)]\n",
    "print(\"Kombinationen für zwei Würfel (6^2):\", zwei_wuerfel_kombinationen)\n",
    "print('Length', len(zwei_wuerfel_kombinationen))\n",
    "\n",
    "drei_wuerfel_kombinationen = [(a, b, c) for a in range(1, 7) for b in range(1, 7) for c in range(1, 7)]\n",
    "print(\"Kombinationen für drei Würfel (6^3):\", drei_wuerfel_kombinationen)\n",
    "print('Length', len(drei_wuerfel_kombinationen))"
   ]
  },
  {
   "cell_type": "markdown",
   "metadata": {},
   "source": [
    "### Generator Comprehensions\n",
    "- Mit Generator Comprehensions können generische Listen erzeugt werden. \n",
    "- z.B. Zahlenreihen etc.\n",
    "- Ebenfall bei Generator Comprehensions wird Anweisung direkt in Listenzuweisung formuliert: \n",
    "`liste = [(Anweisung)]`​"
   ]
  },
  {
   "cell_type": "code",
   "execution_count": null,
   "metadata": {},
   "outputs": [],
   "source": [
    "liste = [i*4 for i in range(1,10)]\n",
    "\n",
    "print(liste)"
   ]
  },
  {
   "cell_type": "markdown",
   "metadata": {},
   "source": [
    "### Set Comprehensions\n",
    "- Es gibt auch Mengen- oder Set Comprehensions. \n",
    "- Werden genau gleich verwendet wie Listen, verwenden aber statt eckigen, geschweifte Klammern:\n",
    "`menge = {(Anweisung)}`"
   ]
  },
  {
   "cell_type": "code",
   "execution_count": 6,
   "metadata": {},
   "outputs": [
    {
     "name": "stdout",
     "output_type": "stream",
     "text": [
      "{0, 3, 6, 9, 12, 15, 18, 21, 24, 27}\n"
     ]
    }
   ],
   "source": [
    "menge = {i*3 for i in range(10)}\n",
    "print (menge)"
   ]
  },
  {
   "cell_type": "markdown",
   "metadata": {},
   "source": [
    "## Function Compositions\n",
    "- Funktionen können beliebig verschachtelt werden."
   ]
  },
  {
   "cell_type": "code",
   "execution_count": 9,
   "metadata": {},
   "outputs": [
    {
     "name": "stdout",
     "output_type": "stream",
     "text": [
      "Ergebnis 202\n"
     ]
    }
   ],
   "source": [
    "def f(x):\n",
    "    return 2*x\n",
    "\n",
    "def g(x):\n",
    "    return x*x+1\n",
    "\n",
    "print(\"Ergebnis\", f(g(10)))"
   ]
  },
  {
   "cell_type": "code",
   "execution_count": 10,
   "metadata": {},
   "outputs": [
    {
     "name": "stdout",
     "output_type": "stream",
     "text": [
      "Ergebnis 202\n"
     ]
    }
   ],
   "source": [
    "# compose\n",
    "\n",
    "val = 10\n",
    "\n",
    "def compose(a,b):\n",
    "    def c(x):\n",
    "        return a(b(x))\n",
    "    return c\n",
    "\n",
    "calculate = compose(f,g)\n",
    "print(\"Ergebnis\", calculate(val))"
   ]
  },
  {
   "cell_type": "code",
   "execution_count": 11,
   "metadata": {},
   "outputs": [
    {
     "name": "stdout",
     "output_type": "stream",
     "text": [
      "Neues Ergebnis :  43.0\n"
     ]
    }
   ],
   "source": [
    "def compose(a, b):\n",
    "    def c(x):\n",
    "        return a(b(x))\n",
    "    return c\n",
    "\n",
    "\n",
    "def d(x):\n",
    "    return 2*x + 3\n",
    "\n",
    "\n",
    "def e(x):\n",
    "    return x*x / 5\n",
    "\n",
    "\n",
    "calculate = compose(d, e)\n",
    "\n",
    "print(\"Neues Ergebnis : \", calculate(val))"
   ]
  }
 ],
 "metadata": {
  "kernelspec": {
   "display_name": "Python 3",
   "language": "python",
   "name": "python3"
  },
  "language_info": {
   "codemirror_mode": {
    "name": "ipython",
    "version": 3
   },
   "file_extension": ".py",
   "mimetype": "text/x-python",
   "name": "python",
   "nbconvert_exporter": "python",
   "pygments_lexer": "ipython3",
   "version": "3.12.8"
  }
 },
 "nbformat": 4,
 "nbformat_minor": 2
}
