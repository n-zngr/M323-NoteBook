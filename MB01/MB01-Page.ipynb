{
 "cells": [
  {
   "cell_type": "markdown",
   "metadata": {},
   "source": [
    "# **M323 Dokumentation**\n",
    "Dieses Modul beeinhaltet funktionelles Programmieren mit Python.\n",
    " \n",
    "Python erlaubt iteratives, wie auch deklaratives Programmieren und eigenet sich aus diesem Grund perfekt für das Modul. \n",
    "\n",
    "Alternativen für deklaratives Programmieren: Haskal, F#, Lisp\n",
    "\n",
    "## Dokumentation Struktur\n",
    "Dieses Repository beinhaltet alle Dateien, welche Teil der Dokumentation sind. \n",
    "\n",
    "- Dazu gehören Python-Dateien, welche gelöste Aufgabenstellungen beinhalten, und Dateien `MB0X-Page.ipynb`, welche Modulblock für Modulblock den behandelten Inhalt beschreibt. \n",
    "- Aufgaben im Unterricht behandelt, sind mit `<Modulblock>.X-Titel` beschriftet. \n",
    "- Dateien mit `Example` im Namen, sind Dateien, welche als Beispiel eines Konzepts dienen. \n"
   ]
  },
  {
   "cell_type": "markdown",
   "metadata": {},
   "source": [
    "# MB01\n",
    "## Auspobieren mit random\n",
    "Mit import, kann eine math library eingefügt werden. \n",
    "\n",
    "`random` generiert einen `float` zwischen 0 und 1. \n",
    "Mit `int()` wird der float als int überschrieben. Zugleich wird die generierte Zahl mit 6 multipliziert. "
   ]
  },
  {
   "cell_type": "code",
   "execution_count": 1,
   "metadata": {},
   "outputs": [
    {
     "name": "stdout",
     "output_type": "stream",
     "text": [
      "3\n",
      "4\n",
      "5\n",
      "4\n",
      "4\n",
      "4\n",
      "0\n",
      "4\n",
      "4\n",
      "0\n"
     ]
    }
   ],
   "source": [
    "import random as rd\n",
    "\n",
    "for i in range(10):\n",
    "    print(int((6)*rd.random()))"
   ]
  },
  {
   "cell_type": "markdown",
   "metadata": {},
   "source": [
    "Im unteren Beispiel wird mit `round()` auspobiert, um nur einen `int` von `1` oder `0` zu erhalten. "
   ]
  },
  {
   "cell_type": "code",
   "execution_count": null,
   "metadata": {},
   "outputs": [
    {
     "name": "stdout",
     "output_type": "stream",
     "text": [
      "0\n",
      "1\n",
      "1\n",
      "1\n",
      "0\n",
      "1\n",
      "0\n",
      "1\n",
      "1\n",
      "0\n"
     ]
    }
   ],
   "source": [
    "import random as rd\n",
    "\n",
    "for i in range(10):\n",
    "\n",
    "    print(int(round(rd.random(), 0)))"
   ]
  },
  {
   "cell_type": "markdown",
   "metadata": {},
   "source": [
    "## Side Effects\n",
    "- Zwei mal eine Datenbank abfrage und es kommt nicht zwei mal das gleiche heraus. \n",
    "- Veränderung von globalen Variablen vermeiden\n",
    "- Veränderung des Wertes eines Funktionsparameters\n",
    "- Werfen einer Exception (Die Funktion sollte so geschrieben sein, dass keine Exception gemacht werden muss)\n",
    "- Veränderung der Laufzeitverhalten durch printen oder logging von Informationen (das Programm muss so lange warten, bis log geschrieben wurde und haltet so den Rest des Programms auf z.B. Minigame auf Arduino)\n",
    "- Veränderung einer globalen Variablen, welche in einer anderen Funktion davor verändert wird, bevor wir unsere Funktion laufen lassen, welches zu einem anderen erwarteten Resultat führt. \n",
    "\n",
    "### Umgang mit Side Effects\n",
    "- Side-Effects können nie ganz verhindert werden, Ziel ist es Side Effects besser im Griff zu haben\n",
    "- Code mit Side Effects minimieren\n",
    "- Funktionen mit Side Effects zu Blöcken (Modulen) clustern.\n",
    "- Überiger (sauberer) Code ist dann einfacher zu testen.\n",
    "- Ergebnisse von Pure Functions sind vorhersehbar.\n",
    "\n",
    "- Wir wollen Referenzielle Integrität erreichen, durch Pure Functions. \n",
    "    - Durch gleichen Input immer den gleichen Output zurückgeben. \n",
    "    - Wenn wir eine Liste sortieren, sollte diese immer das gleiche Resultat herausgeben. \n"
   ]
  },
  {
   "cell_type": "markdown",
   "metadata": {},
   "source": [
    "Imperativ: Regulärer Code\n",
    "\n",
    "Deklarativ: Möglichst einfache Funktionen aufrufen\n",
    "z.B Hypothenuse Aufgabe: `print(wurzel(summe(quadrat(3), quadrat(4))))`"
   ]
  },
  {
   "cell_type": "markdown",
   "metadata": {},
   "source": [
    "## Programmierarten\n",
    "### Deklaratives Programmieren \n",
    "- Python, Haskell, F#, HTML, SQL\n",
    "- Deklaratives Programmieren: Man definiert, was man haben will. \n",
    "- HTML is gutes Beispiel dafür, es wird angezeigt was man möchte und nicht wie man etwas möchte. \n",
    "\n",
    "### Imperatives Programmieren\n",
    "- Befehlsorientierte Programmierung, wie wir etwas haben wollen. "
   ]
  }
 ],
 "metadata": {
  "kernelspec": {
   "display_name": "Python 3",
   "language": "python",
   "name": "python3"
  },
  "language_info": {
   "codemirror_mode": {
    "name": "ipython",
    "version": 3
   },
   "file_extension": ".py",
   "mimetype": "text/x-python",
   "name": "python",
   "nbconvert_exporter": "python",
   "pygments_lexer": "ipython3",
   "version": "3.13.0"
  }
 },
 "nbformat": 4,
 "nbformat_minor": 2
}
