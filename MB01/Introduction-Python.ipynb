{
 "cells": [
  {
   "cell_type": "markdown",
   "id": "44237cb3-eeea-4784-bfdc-66806c280ae9",
   "metadata": {},
   "source": [
    "<h1>Kurze Einführung in Python:</h1>"
   ]
  },
  {
   "cell_type": "markdown",
   "id": "3815acc6-8394-49ae-a18e-28a3f9273266",
   "metadata": {},
   "source": [
    "<h2>Import Libraries:</h2>"
   ]
  },
  {
   "cell_type": "code",
   "execution_count": null,
   "id": "c8dafe01-7eaa-43d5-98f8-9057b7247fc0",
   "metadata": {
    "jupyter": {
     "is_executing": true
    }
   },
   "outputs": [],
   "source": [
    "import math\n",
    "import time\n",
    "\n",
    "print(math.sqrt(25))\n",
    "time.sleep(6)\n",
    "print(math.cos(2*math.pi))"
   ]
  },
  {
   "cell_type": "markdown",
   "id": "cad86eab-877a-4935-8b2b-c95b7fc35dff",
   "metadata": {},
   "source": [
    "<h2>Variablen deklarieren:</h2>\n",
    "Beachte: Python hat dynamische Wertzuweisung und Typzuweisung!"
   ]
  },
  {
   "cell_type": "code",
   "execution_count": 1,
   "id": "3c5d8d80-7709-4d51-98fd-efd686d022e2",
   "metadata": {},
   "outputs": [
    {
     "name": "stdout",
     "output_type": "stream",
     "text": [
      "6\n",
      "2.5\n",
      "8.5\n",
      "[1, 2, 4, 7, 4, 2]\n"
     ]
    }
   ],
   "source": [
    "a = 6        # a ist jetzt ein Integer\n",
    "print(a)\n",
    "\n",
    "b = 2.5      # b ist ein Float\n",
    "print(b)\n",
    "\n",
    "a = a + b    # a wird ebenfalls Float\n",
    "print(a)\n",
    "\n",
    "a = [1,2,4,7,4,2]  # a wird als Liste deklariert\n",
    "print(a)\n"
   ]
  },
  {
   "cell_type": "markdown",
   "id": "1a7547a9-4ff5-4dc0-84e8-bf4a7d4825ef",
   "metadata": {},
   "source": [
    "<h2>Funktion deklarieren:</h2>"
   ]
  },
  {
   "cell_type": "code",
   "execution_count": 2,
   "id": "ca135607-3dcc-4c7f-9b85-628633096eb6",
   "metadata": {},
   "outputs": [
    {
     "name": "stdout",
     "output_type": "stream",
     "text": [
      "5\n",
      "9\n"
     ]
    }
   ],
   "source": [
    "def summe(a, b):      # Funktionsdeklarationen starten mit dem Schlüsselwort def und enden mit einem ':'\n",
    "    sum = a + b       # Der Fuktionskörper - inkl. reurn-Wert - wird um eine Tabulatorposition eingerückt\n",
    "    return sum        # Ein Rückgabewert ist fakultativ - er wird mit 'return' eingeleitet, gefolgt vom Rückgabewert\n",
    "\n",
    "c = summe(2,3)\n",
    "print(c)\n",
    "print(summe(3,6))"
   ]
  },
  {
   "cell_type": "markdown",
   "id": "73edc504-0b3e-4290-8f51-d9c0655c6fe0",
   "metadata": {},
   "source": [
    "<h2>Schleifen deklarieren</h2>"
   ]
  },
  {
   "cell_type": "code",
   "execution_count": null,
   "id": "be378ca1-3139-4b94-a35c-ef6f7faab157",
   "metadata": {},
   "outputs": [],
   "source": [
    "for i in range(0, 10, 2):  # Eine for Schleife beginnt mit dem Schlüsselwort for die Zählervariable wird über den Ausdruck 'in range()' gesteuert \n",
    "                           # Im range wird Startwert, Endwert und\n",
    "    print(i)\n",
    "\n",
    "i = 0\n",
    "while i in range(20):\n",
    "    print(i, end = ', ')   # Durch einen end-Parameter kann verhindert werden, dass print automatisch ein newline ('\\n') generiert\n",
    "    i += 1\n",
    "print()\n",
    "\n",
    "# kommentare für eine Zeile können mit '#' generiert werden\n",
    "\"\"\" Kommentare über ganze Blöcke können mit 3x '\"' generiert werden\n",
    "j = 0\n",
    "while j in range(10):\n",
    "    print(j, end = ': ')   # Durch einen end-Parameter kann verhindert werden, dass print automatisch ein newline ('\\n') generiert\n",
    "    j += 1\n",
    "\"\"\"\n",
    "\n",
    "print(\"nach dem Kommentarblock\")"
   ]
  },
  {
   "cell_type": "markdown",
   "id": "6ac43211-6609-4082-a18c-57aba9c879c2",
   "metadata": {},
   "source": [
    "<h2>Bedingungen:</h2>"
   ]
  },
  {
   "cell_type": "code",
   "execution_count": null,
   "id": "1044b46c-547f-49f1-a9f0-0932187191fa",
   "metadata": {},
   "outputs": [],
   "source": [
    "for i in range(12):\n",
    "    if i%3 == 0:\n",
    "        print(i, \"Rest 0\", end = ' ')\n",
    "    elif i%3 == 1:\n",
    "        print(\"Rest 1\", end = ' ')\n",
    "    else:\n",
    "        print(\"Rest 2\")\n",
    "        "
   ]
  }
 ],
 "metadata": {
  "kernelspec": {
   "display_name": "Python 3",
   "language": "python",
   "name": "python3"
  },
  "language_info": {
   "codemirror_mode": {
    "name": "ipython",
    "version": 3
   },
   "file_extension": ".py",
   "mimetype": "text/x-python",
   "name": "python",
   "nbconvert_exporter": "python",
   "pygments_lexer": "ipython3",
   "version": "3.13.0"
  }
 },
 "nbformat": 4,
 "nbformat_minor": 5
}
